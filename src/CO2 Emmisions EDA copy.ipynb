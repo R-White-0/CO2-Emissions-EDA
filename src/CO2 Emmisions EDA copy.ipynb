{
 "cells": [
  {
   "cell_type": "markdown",
   "metadata": {},
   "source": [
    "# Import Libraries"
   ]
  },
  {
   "cell_type": "code",
   "execution_count": null,
   "metadata": {},
   "outputs": [],
   "source": [
    "import pandas as pd \n",
    "import numpy as np \n",
    "import matplotlib.pyplot as plt\n",
    "import seaborn as sns\n",
    "import os "
   ]
  },
  {
   "cell_type": "markdown",
   "metadata": {},
   "source": [
    "## Read CSV File / Import dataset"
   ]
  },
  {
   "cell_type": "code",
   "execution_count": null,
   "metadata": {},
   "outputs": [],
   "source": [
    "co2_df = pd.read_csv(\"/Users/rojaywhite/Desktop/CO2 EDA /res/Data.csv\")\n",
    "print('Rows: {} | Col: {}'.format(co2_df.shape[0],co2_df.shape[1]))"
   ]
  },
  {
   "cell_type": "markdown",
   "metadata": {},
   "source": [
    "## Exploring CO2 Dataset [EDA]"
   ]
  },
  {
   "cell_type": "markdown",
   "metadata": {},
   "source": [
    "* 1st Make a copy of the original dataset"
   ]
  },
  {
   "cell_type": "code",
   "execution_count": null,
   "metadata": {},
   "outputs": [],
   "source": [
    "co2dfCopy = co2_df.copy(deep=\"true\")\n",
    "co2dfCopy.head()\n",
    "print(\"Original Dataframe: 'co2_df'\")\n",
    "print(co2_df.head())\n",
    "print(\"\\n________________________________________________________________\\n\")\n",
    "print(\"Copied Dataframe: 'co2dfCopy'\")\n",
    "print(co2dfCopy.head())"
   ]
  },
  {
   "cell_type": "code",
   "execution_count": null,
   "metadata": {},
   "outputs": [],
   "source": [
    "co2dfCopy.head()"
   ]
  },
  {
   "cell_type": "code",
   "execution_count": null,
   "metadata": {},
   "outputs": [],
   "source": [
    "co2dfCopy.info()"
   ]
  },
  {
   "cell_type": "code",
   "execution_count": null,
   "metadata": {},
   "outputs": [],
   "source": [
    "#viewing columns in the dataframe\n",
    "pd.DataFrame({\"Columns\": co2dfCopy.columns})"
   ]
  },
  {
   "cell_type": "code",
   "execution_count": null,
   "metadata": {},
   "outputs": [],
   "source": [
    "#checking data types\n",
    "data_types = dict(co2dfCopy.dtypes)\n",
    "print(data_types)"
   ]
  },
  {
   "cell_type": "code",
   "execution_count": null,
   "metadata": {},
   "outputs": [],
   "source": [
    "#checking for unique values within the columns\n",
    "cols = co2dfCopy[[\"Car\", \"Model\", \"Volume\", \"Weight\", \"CO2\",]]\n",
    "cols.nunique()"
   ]
  },
  {
   "cell_type": "code",
   "execution_count": null,
   "metadata": {},
   "outputs": [],
   "source": [
    "#selecting specific columns and assigning them to to dataframe labeled \"vehicle\"\n",
    "vehicle = co2dfCopy[[\"Car\", \"Model\", \"CO2\"]]\n",
    "vehicle"
   ]
  },
  {
   "cell_type": "code",
   "execution_count": null,
   "metadata": {},
   "outputs": [],
   "source": [
    "#checking for any unique car models\n",
    "co2dfCopy[\"Model\"].unique()"
   ]
  },
  {
   "cell_type": "code",
   "execution_count": null,
   "metadata": {},
   "outputs": [],
   "source": [
    "#filtering for specific car models\n",
    "co2dfCopy[ (co2dfCopy[\"Model\"] == \"500\") |(co2dfCopy[\"Model\"] == \"1\")|(co2dfCopy[\"Model\"] == \"3\")|(co2dfCopy[\"Model\"] == \"5\")|(co2dfCopy[\"Model\"] == \"2\")]"
   ]
  },
  {
   "cell_type": "markdown",
   "metadata": {},
   "source": [
    "* these car models are numbers in contrast with the others which are named (observation)\n",
    "\n",
    "* note, they are still \"Object datatype\""
   ]
  },
  {
   "cell_type": "code",
   "execution_count": null,
   "metadata": {},
   "outputs": [],
   "source": [
    "data_types = dict(co2dfCopy.dtypes)\n",
    "print(data_types)"
   ]
  },
  {
   "cell_type": "code",
   "execution_count": null,
   "metadata": {},
   "outputs": [],
   "source": [
    "#returns sample of dataframe in no specfic order\n",
    "co2dfCopy.sample(n=10)"
   ]
  },
  {
   "cell_type": "markdown",
   "metadata": {},
   "source": [
    "## Cleaning the Dataset\n",
    "#### Nan Values in Dataset"
   ]
  },
  {
   "cell_type": "code",
   "execution_count": null,
   "metadata": {},
   "outputs": [],
   "source": [
    "#returns brief summary of dataframe\n",
    "co2dfCopy.info()"
   ]
  },
  {
   "cell_type": "code",
   "execution_count": null,
   "metadata": {},
   "outputs": [],
   "source": [
    "co2dfCopy.isnull().sum()"
   ]
  },
  {
   "cell_type": "markdown",
   "metadata": {},
   "source": [
    "* Column \"Unnamed: 5\" has all Null values"
   ]
  },
  {
   "cell_type": "code",
   "execution_count": null,
   "metadata": {},
   "outputs": [],
   "source": [
    "#rename a given column\n",
    "co2dfCopy.rename(columns={\"Unnamed: 5\" : \"Unnamed\"}, inplace=True)"
   ]
  },
  {
   "cell_type": "code",
   "execution_count": null,
   "metadata": {},
   "outputs": [],
   "source": [
    "#fill empty rows with given value\n",
    "co2dfCopy[\"Unnamed\"].fillna(value=\"No name\", inplace=True)\n",
    "co2dfCopy[\"Unnamed\"].sample(n=10)"
   ]
  },
  {
   "cell_type": "markdown",
   "metadata": {},
   "source": [
    "* Lets drop the \"Un-Named\" column. there is no need for it"
   ]
  },
  {
   "cell_type": "code",
   "execution_count": null,
   "metadata": {},
   "outputs": [],
   "source": [
    "#drop the column \"Unnamed\"\n",
    "co2dfCopy.drop('Unnamed', axis=1, inplace=True)\n",
    "pd.DataFrame({\"Columns in Dataframe\": co2dfCopy.columns})"
   ]
  },
  {
   "cell_type": "markdown",
   "metadata": {},
   "source": [
    "## Visualizations"
   ]
  },
  {
   "cell_type": "code",
   "execution_count": null,
   "metadata": {},
   "outputs": [],
   "source": [
    "co2dfCopy[\"Car\"].value_counts().plot(kind=\"barh\", title=\" Vehicle Count\")"
   ]
  },
  {
   "cell_type": "code",
   "execution_count": null,
   "metadata": {},
   "outputs": [],
   "source": [
    "co2dfCopy[(co2dfCopy[\"Car\"]==\"Mercedes\") | (co2dfCopy[\"Car\"]==\"Skoda\")].sort_values('Car')"
   ]
  },
  {
   "cell_type": "code",
   "execution_count": null,
   "metadata": {},
   "outputs": [],
   "source": [
    "#emissions dataframe consisting of only car and Co2 column\n",
    "emissions = co2dfCopy[[\"Car\", \"CO2\"]]"
   ]
  },
  {
   "cell_type": "code",
   "execution_count": null,
   "metadata": {},
   "outputs": [],
   "source": [
    "avg_emissions_by_car = emissions.groupby(\"Car\")[\"CO2\"].mean().reset_index().sort_values(by=\"CO2\", ascending=True)\n",
    "avg_emissions_by_car.head(n=10)"
   ]
  },
  {
   "cell_type": "code",
   "execution_count": null,
   "metadata": {},
   "outputs": [],
   "source": [
    "\n",
    "avg_emissions_by_car.describe()"
   ]
  },
  {
   "cell_type": "code",
   "execution_count": null,
   "metadata": {},
   "outputs": [],
   "source": [
    "\n",
    "total_emissions_by_cars = emissions.groupby(\"Car\")[\"CO2\"].sum().reset_index().sort_values(by=\"CO2\", ascending=True)\n",
    "total_emissions_by_cars.head(n=10)"
   ]
  },
  {
   "cell_type": "code",
   "execution_count": null,
   "metadata": {},
   "outputs": [],
   "source": [
    "total_emissions_by_cars.describe()"
   ]
  },
  {
   "cell_type": "markdown",
   "metadata": {},
   "source": [
    "## Average Co2 Emissions Visualisation"
   ]
  },
  {
   "cell_type": "code",
   "execution_count": null,
   "metadata": {},
   "outputs": [],
   "source": [
    "from turtle import title\n",
    "\n",
    "sns.set(style = \"darkgrid\")\n",
    "plt.figure(figsize = (10,7))\n",
    "\n",
    "sns.barplot(x = \"CO2\", \n",
    "            y = \"Car\", \n",
    "            data = avg_emissions_by_car).set(title=\"Co2 emissions per Car\")"
   ]
  },
  {
   "cell_type": "code",
   "execution_count": null,
   "metadata": {},
   "outputs": [],
   "source": [
    "from turtle import title\n",
    "\n",
    "sns.set(style = \"darkgrid\")\n",
    "plt.figure(figsize = (15,7))\n",
    "\n",
    "sns.barplot(x = \"Car\", \n",
    "            y = \"CO2\", \n",
    "            data = avg_emissions_by_car).set(title=\"Co2 emissions per Car\")"
   ]
  },
  {
   "cell_type": "markdown",
   "metadata": {},
   "source": [
    "#### In terms of avg emissions:\n",
    "* Fiat is the lowest with an avg of 90 %\n",
    "* Mercedes is the heighest with an avg of 108 %"
   ]
  },
  {
   "cell_type": "code",
   "execution_count": null,
   "metadata": {},
   "outputs": [],
   "source": [
    "#returns average distribution of given data\n",
    "sns.displot(data=avg_emissions_by_car, kde=True)"
   ]
  },
  {
   "cell_type": "markdown",
   "metadata": {},
   "source": [
    "## Total Co2 Emissions (Sum)"
   ]
  },
  {
   "cell_type": "code",
   "execution_count": null,
   "metadata": {},
   "outputs": [],
   "source": [
    "from turtle import title\n",
    "\n",
    "sns.set(style = \"darkgrid\")\n",
    "plt.figure(figsize = (10,7))\n",
    "\n",
    "sns.barplot(x = \"CO2\", \n",
    "            y = \"Car\", \n",
    "            data = total_emissions_by_cars).set(title=\"Co2 emissions per Car\")"
   ]
  },
  {
   "cell_type": "code",
   "execution_count": null,
   "metadata": {},
   "outputs": [],
   "source": [
    "sns.set(style = \"darkgrid\")\n",
    "plt.figure(figsize = (15,7))\n",
    "\n",
    "sns.barplot(x = \"Car\", \n",
    "            y = \"CO2\", \n",
    "            data = total_emissions_by_cars).set(title = \"Sum Co2 emissions per car\")"
   ]
  },
  {
   "cell_type": "markdown",
   "metadata": {},
   "source": [
    "#### In terms of sum emissions:\n",
    "* Fiat is the lowest with 90 total emissions\n",
    "* Mercedes is the heighest with 528 total emissions"
   ]
  },
  {
   "cell_type": "code",
   "execution_count": null,
   "metadata": {},
   "outputs": [],
   "source": [
    "sum_highest_lowest_emissions = total_emissions_by_cars[(total_emissions_by_cars[\"CO2\"] == 528) | (total_emissions_by_cars[\"CO2\"] == 90)]\n",
    "sum_highest_lowest_emissions"
   ]
  },
  {
   "cell_type": "code",
   "execution_count": null,
   "metadata": {},
   "outputs": [],
   "source": [
    "sns.set(style = \"darkgrid\")\n",
    "plt.figure(figsize = (8,6))\n",
    "\n",
    "sns.barplot(x = \"Car\", \n",
    "            y = \"CO2\", \n",
    "            data = sum_highest_lowest_emissions,).set(title = \" 'Sum' of Heighest vs Lowest emission\")"
   ]
  },
  {
   "cell_type": "markdown",
   "metadata": {},
   "source": [
    "## Average Weight by Car Brand"
   ]
  },
  {
   "cell_type": "code",
   "execution_count": null,
   "metadata": {},
   "outputs": [],
   "source": [
    "#dataframe with containing car column and weight column only\n",
    "car_weight = co2dfCopy[['Car', 'Weight']]\n",
    "car_weight.head(n=10)"
   ]
  },
  {
   "cell_type": "code",
   "execution_count": null,
   "metadata": {},
   "outputs": [],
   "source": [
    "avg_car_weight= car_weight.groupby('Car')['Weight'].mean().reset_index().sort_values(by='Weight')\n",
    "avg_car_weight.head(n=10)"
   ]
  },
  {
   "cell_type": "code",
   "execution_count": null,
   "metadata": {},
   "outputs": [],
   "source": [
    "from turtle import title\n",
    "\n",
    "sns.set(style = \"darkgrid\")\n",
    "plt.figure(figsize = (10,7))\n",
    "\n",
    "sns.barplot(x = \"Weight\", \n",
    "            y = \"Car\", \n",
    "            data = avg_car_weight).set(title=\"Average Weight per Car\")"
   ]
  },
  {
   "cell_type": "code",
   "execution_count": null,
   "metadata": {},
   "outputs": [],
   "source": [
    "sns.displot(data= avg_car_weight, kde= True)"
   ]
  },
  {
   "cell_type": "code",
   "execution_count": null,
   "metadata": {},
   "outputs": [],
   "source": [
    "co2dfCopy.sample(n=5)"
   ]
  },
  {
   "cell_type": "code",
   "execution_count": null,
   "metadata": {},
   "outputs": [],
   "source": [
    "#Displays a bar chart of number of cars per Model\n",
    "Models = co2dfCopy[[\"Car\", \"Model\"]]\n",
    "cars_by_Models = Models.groupby(\"Model\")[\"Car\"].count().reset_index().sort_values(by=\"Car\", ascending=True)\n",
    "cars_by_Models\n",
    "\n",
    "sns.set(style = \"darkgrid\")\n",
    "plt.figure(figsize = (30,13))\n",
    "\n",
    "sns.barplot(x = 'Car', \n",
    "            y = 'Model', \n",
    "            data = cars_by_Models).set(title = \"# of Cars per Model\")"
   ]
  },
  {
   "cell_type": "code",
   "execution_count": null,
   "metadata": {},
   "outputs": [],
   "source": [
    "co2dfCopy[ (co2dfCopy[\"Model\"] == \"Fiesta\") ]"
   ]
  },
  {
   "cell_type": "code",
   "execution_count": null,
   "metadata": {},
   "outputs": [],
   "source": [
    "co2dfCopy[\"Weight\"].describe()"
   ]
  },
  {
   "cell_type": "code",
   "execution_count": null,
   "metadata": {},
   "outputs": [],
   "source": [
    "heaviest_Smallest = co2dfCopy[(co2dfCopy[\"Weight\"] == 790)|(co2dfCopy[\"Weight\"] == 1746)]\n",
    "print(\"The smallest & heaviest vehicles in the set are: \\n\\n\",heaviest_Smallest)"
   ]
  },
  {
   "cell_type": "code",
   "execution_count": null,
   "metadata": {},
   "outputs": [],
   "source": [
    "#how the total weight is destibuted\n",
    "sns.displot(co2dfCopy['Weight'], kde=True, bins=10)"
   ]
  },
  {
   "cell_type": "markdown",
   "metadata": {},
   "source": [
    "* most of the total weight lies somewhere between 1200 & 1600"
   ]
  },
  {
   "cell_type": "code",
   "execution_count": null,
   "metadata": {},
   "outputs": [],
   "source": [
    "total_emissions_by_cars"
   ]
  },
  {
   "cell_type": "code",
   "execution_count": null,
   "metadata": {},
   "outputs": [],
   "source": [
    "#note \"kde\" stands for Kernel Desnsity Estimation plots\n",
    "sns.displot(total_emissions_by_cars['CO2'], kde=True)"
   ]
  },
  {
   "cell_type": "code",
   "execution_count": null,
   "metadata": {},
   "outputs": [],
   "source": [
    "sns.jointplot(x='Weight', y='CO2', data=co2dfCopy)"
   ]
  },
  {
   "cell_type": "code",
   "execution_count": null,
   "metadata": {},
   "outputs": [],
   "source": [
    "sns.pairplot(co2dfCopy, hue='Car')"
   ]
  }
 ],
 "metadata": {
  "kernelspec": {
   "display_name": "Python 3.10.4 ('test_env')",
   "language": "python",
   "name": "python3"
  },
  "language_info": {
   "codemirror_mode": {
    "name": "ipython",
    "version": 3
   },
   "file_extension": ".py",
   "mimetype": "text/x-python",
   "name": "python",
   "nbconvert_exporter": "python",
   "pygments_lexer": "ipython3",
   "version": "3.10.4"
  },
  "orig_nbformat": 4,
  "vscode": {
   "interpreter": {
    "hash": "0a3a95a90a60ae0d78a5ce5a9891a9e46f6d26dd9014e20e8cf7ba753940c6d3"
   }
  }
 },
 "nbformat": 4,
 "nbformat_minor": 2
}
